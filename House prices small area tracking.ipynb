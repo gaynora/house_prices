{
 "cells": [
  {
   "cell_type": "markdown",
   "id": "798ef29b",
   "metadata": {},
   "source": [
    "# Analysing HMLR domestic property sale £ prices using the HMLR 'Price Paid' dataset"
   ]
  },
  {
   "cell_type": "markdown",
   "id": "1c527cad",
   "metadata": {},
   "source": [
    "The method identifies change between 2012 - 2022 for individual properties in England and Wales including metrics for urban-rural classification, regional patterns, and property type, checking counts for statistical significance.\n",
    "The method uses Python 3."
   ]
  },
  {
   "cell_type": "markdown",
   "id": "f88ba402",
   "metadata": {},
   "source": [
    "The HM Land Register 'Price Paid' data provides complete and accurate sales £ transaction data for properties at the property level, making it useful for small-area geographically detailed and precise analysis."
   ]
  },
  {
   "cell_type": "markdown",
   "id": "439ce6cf",
   "metadata": {},
   "source": [
    "The data can be downloaded as a flat file from https://www.gov.uk/government/statistical-data-sets/price-paid-data-downloads ('the complete Price Paid Transaction Data as a CSV file') which shows some discovery metadata. Additional metadata can be found at https://landregistry.data.gov.uk/app/root/doc/ppd#:~:text=The%20price%20paid%20dataset%20is%20available%20in%20several,to%20use%20under%20the%20terms%20of%20the%20OGL.  Data is open government data under OGL licence."
   ]
  },
  {
   "cell_type": "markdown",
   "id": "ca072da7",
   "metadata": {},
   "source": [
    "A combination of spatial and non-spatial analysis libraries are used for the data engineering, and matplotlib together with geoplot to show some basic trends."
   ]
  },
  {
   "cell_type": "code",
   "execution_count": null,
   "id": "b0c31f96",
   "metadata": {},
   "outputs": [],
   "source": [
    "import pandas\n",
    "import geopandas\n",
    "import matplotlib.pyplot as plt\n",
    "import folium\n",
    "import branca.colormap as cm"
   ]
  },
  {
   "cell_type": "markdown",
   "id": "0b3d6c45",
   "metadata": {},
   "source": [
    "Firstly, import the 'price paid' data for both 2012 and 2022 with relevant headers and specified datatypes from the flat files into a dataframe. An API method could be considered: for context we are interested in querying the entire dataset initially."
   ]
  },
  {
   "cell_type": "code",
   "execution_count": null,
   "id": "f0d6e34d",
   "metadata": {},
   "outputs": [],
   "source": [
    "colnames=['pricepaid', 'date','postcode', 'proptype', 'tenure', 'PAON', 'SAON', 'street']\n",
    "type_dict = {'pricepaid': 'int', 'date': 'str', 'postcode': 'str', 'proptype': 'str', 'tenure': 'str', 'PAON':'str', 'SAON':'str', 'street': 'str'}\n",
    "pp_2012_pt1 = pandas.read_csv('pp-2012-part1.csv', usecols=[1,2,3,4,6,7,8,9], names=colnames, dtype=type_dict )\n",
    "pp_2012_pt2 = pandas.read_csv('pp-2012-part2.csv', usecols=[1,2,3,4,6,7,8,9], names=colnames )\n",
    "pp_2022 = pandas.read_csv('pp-2022.csv', usecols=[1,2,3,4,6,7,8,9], names=colnames )\n",
    "pp_2012_pt1.date = pandas.to_datetime(pp_2012_pt1['date'])# convert dates to datetime data type \n",
    "pp_2012_pt2.date = pandas.to_datetime(pp_2012_pt2['date'])\n",
    "pp_2022.date = pandas.to_datetime(pp_2022['date'])"
   ]
  },
  {
   "cell_type": "markdown",
   "id": "c0b5cf58",
   "metadata": {},
   "source": [
    "The columns should be relatively self-explanatory:\n",
    "    pricepaid - this is the transaction price paid for the property at the point of sale in £\n",
    "    date - is the date of the £ transaction, or in UK terms the 'completion date'\n",
    "    postcode - this is the full postcode unit of the property\n",
    "    proptype - this is the property type - a standard taxonomy of either detatched / semi-detached / terraced / flat or maisonette / other\n",
    "    tenure - this is the legal tenure under which the property is held, either freehold or leasehold \n",
    "    PAON - this is the primary addressable object name or number of the property, aligned to the British BBS7666 format for addressing\n",
    "    SAON - this is the secondary addressable object name or number of the property, aligned to the British BS7666 format for addressing\n",
    "    street - this is the street name of the property\n",
    "    \n",
    " We are most interested in the first 5 fields only, as the data are 'geocoded' or located in space based on coordinates available for postcode information. More about this below."
   ]
  },
  {
   "cell_type": "markdown",
   "id": "ae07bb3d",
   "metadata": {},
   "source": [
    "Historic 2012 is currently available in 2 files, so append the 2012 data together, row-wise:"
   ]
  },
  {
   "cell_type": "code",
   "execution_count": null,
   "id": "0f3ecace",
   "metadata": {},
   "outputs": [],
   "source": [
    "pp_2012 = pp_2012_pt1.append(pp_2012_pt2, ignore_index=True)\n",
    "pp_2012_pt1.drop(pp_2012_pt1.index , inplace=True)\n",
    "pp_2012_pt2.drop(pp_2012_pt2.index , inplace=True)"
   ]
  },
  {
   "cell_type": "markdown",
   "id": "ba92195a",
   "metadata": {},
   "source": [
    "The method aims to identify houses, flats etc - the exact property of which - has been sold both in the year 2012 and again in the year 2022, to track change over time. In order to create record-level matches a new field is required in each input dataframe to act as unique ID to identify the same property record. A combination of the postcode, PAON, SAON and street can achieve this: "
   ]
  },
  {
   "cell_type": "code",
   "execution_count": null,
   "id": "f56fbe56",
   "metadata": {},
   "outputs": [],
   "source": [
    "pp_2012['concat2012'] = pp_2012['postcode'] + pp_2012['PAON'] + pp_2012['SAON'].astype(str) + pp_2012['street']\n",
    "pp_2022['concat2022'] = pp_2022['postcode'] + pp_2022['PAON'] + pp_2022['SAON'].astype(str) + pp_2022['street']\n",
    "pp_2012.drop(['PAON', 'SAON', 'street'], axis=1, inplace=True) #no longer needed\n",
    "pp_2022.drop(['PAON', 'SAON', 'street'], axis=1, inplace=True) #no longer needed"
   ]
  },
  {
   "cell_type": "markdown",
   "id": "58ea8f37",
   "metadata": {},
   "source": [
    "Some properties are sold multiple times within the 12 month period. We can identify recs sold multiple times in the year and delete before joining:  "
   ]
  },
  {
   "cell_type": "code",
   "execution_count": null,
   "id": "9b7fdcb6",
   "metadata": {},
   "outputs": [],
   "source": [
    "duplicates_2012 = pp_2012[pp_2012.duplicated(['concat2012'], keep=False)]\n",
    "duplicates_2022 = pp_2022[pp_2022.duplicated(['concat2022'], keep=False)]"
   ]
  },
  {
   "cell_type": "markdown",
   "id": "f18c3286",
   "metadata": {},
   "source": [
    "The assumptions made are to use the earliest sale from the 2012 data and the latest sale from the 2022 data in these cases:"
   ]
  },
  {
   "cell_type": "code",
   "execution_count": null,
   "id": "8646f44a",
   "metadata": {},
   "outputs": [],
   "source": [
    "todelete_2012 = duplicates_2012.sort_values('date').drop_duplicates('concat2012',keep='first') \n",
    "todelete_2022 = duplicates_2022.sort_values('date').drop_duplicates('concat2022',keep='last') "
   ]
  },
  {
   "cell_type": "markdown",
   "id": "45527306",
   "metadata": {},
   "source": [
    "and then delete them from the main dataframe:"
   ]
  },
  {
   "cell_type": "code",
   "execution_count": null,
   "id": "05a63794",
   "metadata": {},
   "outputs": [],
   "source": [
    "cond = pp_2012['concat2012'].isin(todelete_2012['concat2012']) # first df is the records to keep, second df contains the records to delete\n",
    "pp_2012.drop(pp_2012[cond].index, inplace = True)\n",
    "cond = pp_2022['concat2022'].isin(todelete_2022['concat2022']) # first df is the records to keep, second df contains the records to delete\n",
    "pp_2022.drop(pp_2022[cond].index, inplace = True)"
   ]
  },
  {
   "cell_type": "markdown",
   "id": "3dbdfaa1",
   "metadata": {},
   "source": [
    "The date field is no longer needed at this point so can be dropped:"
   ]
  },
  {
   "cell_type": "code",
   "execution_count": null,
   "id": "a8859351",
   "metadata": {},
   "outputs": [],
   "source": [
    "pp_2012.drop(['date'], axis=1, inplace=True)\n",
    "pp_2022.drop(['date'], axis=1, inplace=True)"
   ]
  },
  {
   "cell_type": "markdown",
   "id": "7b60572f",
   "metadata": {},
   "source": [
    "There are some records in the raw data that do not contain location information - these are deleted before joining the dataframes:"
   ]
  },
  {
   "cell_type": "code",
   "execution_count": null,
   "id": "25a2e5e6",
   "metadata": {},
   "outputs": [],
   "source": [
    "pp_2012.drop(pp_2012[pp_2012['concat2012'].isnull()].index, inplace = True) # 658,717 recs remaining\n",
    "pp_2022.drop(pp_2022[pp_2022['concat2022'].isnull()].index, inplace = True)"
   ]
  },
  {
   "cell_type": "markdown",
   "id": "e16f5231",
   "metadata": {},
   "source": [
    "The property records between 2012 and 2022 dataframes are then inner joined on the 'concat' field previously calculated.\n",
    "\n",
    "There are 30,301 joined recs. Based on the 24,782,800 households England and Wales recorded at the Census in March 2021, this is an estimated 0.12% sample of domestic properties:"
   ]
  },
  {
   "cell_type": "code",
   "execution_count": null,
   "id": "750249c1",
   "metadata": {},
   "outputs": [],
   "source": [
    "joined = pp_2012.merge(pp_2022, left_on='concat2012', right_on='concat2022', how='inner') "
   ]
  },
  {
   "cell_type": "markdown",
   "id": "4385fe0e",
   "metadata": {},
   "source": [
    "The original and new transaction prices are now contained within a new dataframe for each individual property. A % increase or 'price paid' is calculated in a new field:"
   ]
  },
  {
   "cell_type": "code",
   "execution_count": null,
   "id": "678fdf63",
   "metadata": {},
   "outputs": [],
   "source": [
    "joined['perchange'] = (joined['pricepaid_y'] - joined['pricepaid_x']) / joined['pricepaid_y'] *100"
   ]
  },
  {
   "cell_type": "markdown",
   "id": "76c5a11a",
   "metadata": {},
   "source": [
    "In order to look at any geographic patterns we need to geocode or locate the properties in space to perform some basic spatial analysis. Full address-matching would give a very precise property location but is both a. not necessary for the scale-dependency of the analysis, and b. relatively complex and time-consuming. This method uses the full 'unit' postcode information and the coordinates available, which will locate the properties to the centre of around 15 spatially contiguous addresses. \n",
    "\n",
    "The Office for National Statistics Postcode Directory (ONSPD) is available as open data in order to do this. It can be downloded from https://geoportal.statistics.gov.uk as a flat file, released quarterly. There is no open API available in 2023, and so this data is imported from csv into a new dataframe:"
   ]
  },
  {
   "cell_type": "code",
   "execution_count": null,
   "id": "28a52501",
   "metadata": {},
   "outputs": [],
   "source": [
    "onspd = pandas.read_csv('ONSPD_MAY_2023_UK.csv', usecols=[2,11,12, 17,40, 42,43], header=0 ) "
   ]
  },
  {
   "cell_type": "markdown",
   "id": "b1aee2cb",
   "metadata": {},
   "source": [
    "A handful of useful fields are joined to the property records based on the postcode field:\n",
    "Easting and northing projected coordinates in EPSG 27700 or the 'British National Grid' allow use to locate the records.\n",
    "The urban-rural classification gives us an indicator for whether the property is in a broadly 'rural' or 'urban. area.\n",
    "The 'Government Office Region' gives a broad geographic breakdown of the type policy makers commonly understand in the UK."
   ]
  },
  {
   "cell_type": "code",
   "execution_count": null,
   "id": "a8ea2fe6",
   "metadata": {},
   "outputs": [],
   "source": [
    "geocoded = joined.merge(onspd, left_on='postcode_y', right_on='pcds', how='left')\n",
    "urban_rural_class_dict = {\"A1\": \"Major Conurbation\", \"B1\": \"Minor Conurbation\", \"C1\": \"City and Town\", \"C2\": \"City and Town in a Sparse Setting\", \"D1\": \"Town and Fringe\", \"D2\":\"Town and Fringe in a Sparse Setting\", \"E1\": \"Village\", \"E2\": \"Village in a Sparse Setting\", \"F1\": \"Hamlets and Isolated Dwellings\", \"F2\": \"Hamlets and Isolated Dwellings in a Sparse Setting\"}\n",
    "geocoded['urbrur11'] = geocoded['ru11ind'].map(urban_rural_class_dict)\n",
    "urban_rural_class_dictb = {\"A1\": \"Urban\", \"B1\": \"Urban\", \"C1\": \"Urban\", \"C2\": \"Urban\", \"D1\": \"Rural\", \"D2\":\"Rural\", \"E1\": \"Rural\", \"E2\": \"Rural\", \"F1\": \"Rural\", \"F2\": \"Rural\"}\n",
    "geocoded['urbrur11b'] = geocoded['ru11ind'].map(urban_rural_class_dictb)\n",
    "prop_type_dict = {\"T\": \"Terraced\", \"S\": \"Semi-Detached\", \"F\": \"Flat/Maisonette\", \"D\": \"Detatched\", \"O\": \"Other\"}\n",
    "geocoded['typedesc'] = geocoded['proptype_x'].map(prop_type_dict)\n",
    "region_dict = {\"W99999999\": \"Wales\", \"E12000001\": \"North East\", \"E12000002\": \"North West\", \"E12000003\": \"Yorkshire and The Humber\", \"E12000004\": \"East Midlands\", \"E12000005\": \"West Midlands\", \"E12000006\": \"East of England\", \"E12000007\": \"London\", \"E12000008\": \"South East\", \"E12000009\": \"South West\"}\n",
    "geocoded['region'] = geocoded['rgn'].map(region_dict)"
   ]
  },
  {
   "cell_type": "markdown",
   "id": "5d4f2696",
   "metadata": {},
   "source": [
    "The xy coordinate fields can then be used as 'point data' held in a geodataframe. The Coordinate Reference System (CRS) should be defined at this point to ensure 'points are in the right place in the world'. For the purposes of the geoplot and folium packages we define this as WGS84 (or EPSG 4326):"
   ]
  },
  {
   "cell_type": "code",
   "execution_count": null,
   "id": "8fe7282f",
   "metadata": {},
   "outputs": [],
   "source": [
    "gdf = geopandas.GeoDataFrame(geocoded, geometry=geopandas.points_from_xy(geocoded.long,geocoded.lat)) \n",
    "gdf = gdf.set_crs(4326, allow_override=True) "
   ]
  },
  {
   "cell_type": "markdown",
   "id": "e851ed8a",
   "metadata": {},
   "source": [
    "The points can be exported and written to disk at this point for use elsewhere, particulary for web mapping if useful:"
   ]
  },
  {
   "cell_type": "code",
   "execution_count": null,
   "id": "62da9b1e",
   "metadata": {},
   "outputs": [],
   "source": [
    "geocoded.to_csv('price_paid_2012_2022.csv')\n",
    "gdf.to_file('price_paid_2012_2022.geojson', driver='geojson')"
   ]
  },
  {
   "cell_type": "markdown",
   "id": "9101304c",
   "metadata": {},
   "source": [
    "The records of property type 'Other' can be dropped as the class is both unhelpful and counts are too small to be statistically significant for the segmentations produced:"
   ]
  },
  {
   "cell_type": "code",
   "execution_count": null,
   "id": "f4dee266",
   "metadata": {},
   "outputs": [],
   "source": [
    "geocoded.drop(geocoded[geocoded.typedesc == 'Other'].index, inplace=True)"
   ]
  },
  {
   "cell_type": "markdown",
   "id": "31f9df39",
   "metadata": {},
   "source": [
    "The data is grouped to examine multi-variate statistics. \n",
    "\n",
    "The broad urban-rural split is used in order to allow enough record counts for statistical significance:"
   ]
  },
  {
   "cell_type": "code",
   "execution_count": null,
   "id": "1b4e7f6d",
   "metadata": {},
   "outputs": [],
   "source": [
    "geocoded.groupby(['urbrur11b', 'typedesc'])['perchange'].mean().plot(kind='barh', color = '#f78da7')\n",
    "plt.xlabel(\"% change price paid 2012-2022\")\n",
    "plt.ylabel(\"Urban Rural Classification by property type\")\n",
    "plt.title(\"Average property value uplift 2012-2022 by Urban Rural Classification and property type in England and Wales\")"
   ]
  },
  {
   "cell_type": "markdown",
   "id": "db38d10e",
   "metadata": {},
   "source": [
    "There is no strond trend by the extent of 'urban scale'."
   ]
  },
  {
   "attachments": {
    "by%20urban%20rural%20class.png": {
     "image/png": "[encoded data removed]"
    }
   },
   "cell_type": "markdown",
   "id": "b55bde61",
   "metadata": {},
   "source": [
    "![by%20urban%20rural%20class.png](attachment:by%20urban%20rural%20class.png)"
   ]
  },
  {
   "cell_type": "markdown",
   "id": "daeb019c",
   "metadata": {},
   "source": [
    "Results can also be grouped by property type:"
   ]
  },
  {
   "cell_type": "code",
   "execution_count": null,
   "id": "3dfa115f",
   "metadata": {},
   "outputs": [],
   "source": [
    "geocoded.groupby(['typedesc'])['perchange'].mean().reindex(['Flat/Maisonette', 'Terraced', 'Semi-Detached', 'Detatched']).plot(kind='barh', color = '#f78da7')\n",
    "plt.xlabel(\"% change price paid 2012-2022\")\n",
    "plt.ylabel(\"Property type\")\n",
    "plt.title(\"Average property value uplift 2012-2022 by property type in England and Wales\")"
   ]
  },
  {
   "cell_type": "markdown",
   "id": "fa7ff9db",
   "metadata": {},
   "source": [
    "Houses have been, nationally, holding their value more than flats / maisonettes."
   ]
  },
  {
   "cell_type": "markdown",
   "id": "b2b5872a",
   "metadata": {},
   "source": [
    "Also simply by region:"
   ]
  },
  {
   "cell_type": "code",
   "execution_count": null,
   "id": "aec05db0",
   "metadata": {},
   "outputs": [],
   "source": [
    "geocoded.groupby(['region'])['perchange'].mean().plot(kind='barh', color = '#f78da7')\n",
    "plt.xlabel(\"% change price paid 2012-2022\")\n",
    "plt.ylabel(\"Region by region\")\n",
    "plt.title(\"Average property value uplift 2012-2022 by region in England and Wales\")"
   ]
  },
  {
   "cell_type": "markdown",
   "id": "8a33f061",
   "metadata": {},
   "source": [
    "There is a general north-south divide, throughout all property types."
   ]
  },
  {
   "cell_type": "markdown",
   "id": "9c7b337b",
   "metadata": {},
   "source": [
    "Looking in more detail at the heterogeneity, we can plot the individual properties:"
   ]
  },
  {
   "cell_type": "markdown",
   "id": "82d390ee",
   "metadata": {},
   "source": [
    "The North East and North West growth can be seen again in map form. With the north-south divide there is significant local variation. High value growth is seen in Marget and East London and relatively slower growth was observed in West Central London for example."
   ]
  },
  {
   "cell_type": "code",
   "execution_count": null,
   "id": "f04ad157",
   "metadata": {},
   "outputs": [],
   "source": [
    "print(geocoded.head(5))"
   ]
  },
  {
   "cell_type": "code",
   "execution_count": null,
   "id": "baf240da",
   "metadata": {},
   "outputs": [],
   "source": [
    "#BASE MAP\n",
    "\n",
    "# Define  OS MAPS API Web Map Tile Service\n",
    "wmts_path = 'https://api.os.uk/maps/raster/v1/wmts?key=cf29UaahD1kovSGU2x3wyFwW09bizUGK'\n",
    "\n",
    "# OS Maps API (WMTS) endpoint path\n",
    "wmts_endpoint = 'https://api.os.uk/maps/raster/v1/wmts?'\n",
    "\n",
    "# Define WMTS parameters \n",
    "key = 'cf29UaahD1kovSGU2x3wyFwW09bizUGK'\n",
    "service = 'wmts'\n",
    "request = 'GetTile'\n",
    "version = '2.0.0'\n",
    "style = 'default'\n",
    "# Light style base map in Web Mercator projection (EPSG:3857)\n",
    "layer = 'Light_3857'\n",
    "tileMatrixSet = 'EPSG:3857'\n",
    "tileMatrix = 'EPSG:3857:{z}'\n",
    "tileRow = '{y}'\n",
    "tileCol ='{x}'\n",
    "\n",
    "# Represent WMTS parameters in a dictionary\n",
    "params_wmts = {'key':key, \n",
    "              'service':service, \n",
    "              'request':request,\n",
    "              'version':version,\n",
    "              'style':style,\n",
    "              'layer':layer,\n",
    "              'tileMatrixSet':tileMatrixSet,\n",
    "              'tileMatrix':tileMatrix,\n",
    "              'tileRow':tileRow,\n",
    "              'tileCol':tileCol}\n",
    "\n",
    "# Construct WMTS API path\n",
    "wmts_path = wmts_endpoint + \\\n",
    "           ('key={key}&'\n",
    "            'service={service}&'\n",
    "            'request={request}&'\n",
    "            'version={version}&'\n",
    "            'style={style}&'\n",
    "            'layer={layer}&'\n",
    "            'tileMatrixSet={tileMatrixSet}&'\n",
    "            'tileMatrix={tileMatrix}&'\n",
    "            'tileRow={tileRow}&'\n",
    "            'tileCol={tileCol}').format(**params_wmts)\n",
    "\n",
    "print('=> Constructed OS Maps API URL: {}'.format(wmts_path))\n",
    "\n",
    "\n",
    "# HOUSE PRICE DATA\n",
    "\n",
    "# create dataframe \n",
    "#house_prices = pandas.read_csv('price_paid_2012_2022_epsg4326.csv')# this data is analysed and produced elsewhere\n",
    "\n",
    "\n",
    "linear = cm.StepColormap(colors=('indigo', 'purple', 'plum', 'lightgreen', 'green', 'black'), #colours relate to the order of below bins\n",
    "                           vmin=geocoded['perchange'].min(), # tuples of RGBA ints between 0 and 255 (e.g: (255, 255, 0) or colour names e.g. 'yellow'\n",
    "                           vmax=geocoded['perchange'].max(),\n",
    "                           index=[-21438, 0,  12, 24, 36, 48] # bins\n",
    "                           )\n",
    "\n",
    "m = folium.Map(location=[51.496030, -0.110000], \n",
    "               zoom_start=13,\n",
    "               max_zoom=16,\n",
    "               tiles=wmts_path, \n",
    "               attr='Contains OS Crown Copyright',\n",
    "               control_scale=True,\n",
    "               legend_name='percentage change'\n",
    "               )\n",
    "\n",
    "for _, row in geocoded.iterrows():\n",
    "    folium.CircleMarker([row.lat, row.long],\n",
    "                      popup=['% change:  ', row.perchange],\n",
    "                      radius=3,\n",
    "                      color = linear(row.perchange),\n",
    "                      ).add_to(m)\n",
    "\n",
    "m.add_child(linear)\n",
    "display(m)\n",
    "# export map file\n",
    "m.save(\"price_paid_2012_2022.html\")"
   ]
  },
  {
   "cell_type": "markdown",
   "id": "c305a4c7",
   "metadata": {},
   "source": [
    "Descriptive statistics can be compared, and for future changes to the input data i.e. different years, calculating record-counts are also wise. These can also be exported as tables for use elsewhere:"
   ]
  },
  {
   "cell_type": "code",
   "execution_count": null,
   "id": "6862cfc0",
   "metadata": {},
   "outputs": [],
   "source": [
    "groupby_proptype = geocoded.groupby(['urbrur11'])['perchange'].mean()\n",
    "groupby_proptype.to_csv('perchange_by_urban_rural_mean.csv')\n",
    "groupby_urbanrural = geocoded.groupby(['typedesc'])['perchange'].mean()\n",
    "groupby_urbanrural.to_csv('perchange_by_proptype_mean.csv')\n",
    "groupby_urbanrural_pt_ = geocoded.groupby(['typedesc', 'urbrur11b'])['perchange'].mean()\n",
    "groupby_urbanrural_pt_.to_csv('perchange_by_proptype_urban_rural_mean.csv')\n",
    "\n",
    "groupby_region_proptype = geocoded.groupby(['region', 'typedesc'])['perchange'].mean()\n",
    "groupby_region_proptype.to_csv('perchange_by_region_proptype_mean.csv')\n",
    "\n",
    "groupby_region = geocoded.groupby(['region'])['perchange'].mean()\n",
    "groupby_region.to_csv('perchange_by_region_mean.csv')\n",
    "\n",
    "groupby_proptypeb = geocoded.groupby(['urbrur11'])['perchange'].count()\n",
    "groupby_proptypeb.to_csv('perchange_by_urban_rural_counts.csv')\n",
    "groupby_urbanruralb = geocoded.groupby(['typedesc'])['perchange'].count()\n",
    "groupby_urbanruralb.to_csv('perchange_by_proptype_counts.csv')\n",
    "groupby_urbanrural_ptb = geocoded.groupby(['typedesc', 'urbrur11'])['perchange'].count()\n",
    "groupby_urbanrural_ptb.to_csv('perchange_by_proptype_urban_ruralall_counts.csv')\n",
    "groupby_urbanrural_ptc = geocoded.groupby(['typedesc', 'urbrur11b'])['perchange'].count()\n",
    "groupby_urbanrural_ptc.to_csv('perchange_by_proptype_urban_rural_counts.csv')\n",
    "\n",
    "groupby_region_proptypeb = geocoded.groupby(['region', 'typedesc'])['perchange'].count()\n",
    "groupby_region_proptypeb.to_csv('perchange_by_region_proptype_counts.csv')\n",
    "\n",
    "groupby_regionb = geocoded.groupby(['region'])['perchange'].count()\n",
    "groupby_regionb.to_csv('perchange_by_region_counts.csv')"
   ]
  },
  {
   "cell_type": "markdown",
   "id": "db887cd4",
   "metadata": {},
   "source": [
    "Some notes on the methodology strengths and weaknesses:\n",
    "\n",
    "The method tracks individual properties which had a sale recorded in both 2012 then 2022. It's strength is it's weakness in some ways: it reduces some of the big errors that are introduced through using averages against averages in an area over time. It allows you to examine these super-important local-level patterns. But it then becomes sampled data, as the only data points we have are sales that happened to have occurred in those time periods (2012 and 2022). Some counts when segmented by other areas or types then become so small as to be statistically insignificant - i.e. be careful about deducing too much about large areas with one individual sale - there is a lot that can happen to create an uplift in property including renovations which are not controlled for here."
   ]
  },
  {
   "cell_type": "markdown",
   "id": "eb2e96e0",
   "metadata": {},
   "source": [
    "Specifics:\n",
    "\n",
    "None of the counts 'in a sparse setting' are statistically significant due to low counts, so these have been removed from the groupby queries -type 'other' is also statistically insignificant with 4 properties - I'm not even sure what this category is - land? castles?! It has been removed from results.\n",
    "\n",
    "The method covers England and Wales only - we cannot assume that the same patterns exist for Scotland or Northern Ireland, having their own distinct housing markets.\n",
    "\n",
    "The key missing parameter to understand trends in hedonic price modelling is the number of bedrooms and we don't have this, so have to use 'type' as a proxy. It's perhaps not a bad proxy for England and Wales because it often doesn't have the 3-4 bed tenement stock and tenement neighbourhoods that Scotland has.\n",
    "\n",
    "Because the code is a RAP, data can be plugged in for different time frames and re-run to see what it looks like: 10 years obviously only gives long-term trends, and short term trends may be more pronounced or show different patterns."
   ]
  }
 ],
 "metadata": {
  "kernelspec": {
   "display_name": "Python 3 (ipykernel)",
   "language": "python",
   "name": "python3"
  },
  "language_info": {
   "codemirror_mode": {
    "name": "ipython",
    "version": 3
   },
   "file_extension": ".py",
   "mimetype": "text/x-python",
   "name": "python",
   "nbconvert_exporter": "python",
   "pygments_lexer": "ipython3",
   "version": "3.10.12"
  }
 },
 "nbformat": 4,
 "nbformat_minor": 5
}
